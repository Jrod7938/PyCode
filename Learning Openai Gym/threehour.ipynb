{
 "cells": [
  {
   "cell_type": "code",
   "execution_count": 16,
   "id": "da9b45af",
   "metadata": {},
   "outputs": [],
   "source": [
    "import gym\n",
    "import gym_anytrading\n",
    "\n",
    "from stable_baselines3.common.vec_env import DummyVecEnv\n",
    "from stable_baselines3 import A2C\n",
    "\n",
    "import numpy as np\n",
    "import pandas as pd\n",
    "from matplotlib import pyplot as plt\n",
    "\n"
   ]
  },
  {
   "cell_type": "code",
   "execution_count": 23,
   "id": "f495337a",
   "metadata": {},
   "outputs": [],
   "source": [
    "df = pd.read_csv('gmedata.csv')"
   ]
  },
  {
   "cell_type": "code",
   "execution_count": 24,
   "id": "fa379ab2",
   "metadata": {},
   "outputs": [
    {
     "data": {
      "text/html": [
       "<div>\n",
       "<style scoped>\n",
       "    .dataframe tbody tr th:only-of-type {\n",
       "        vertical-align: middle;\n",
       "    }\n",
       "\n",
       "    .dataframe tbody tr th {\n",
       "        vertical-align: top;\n",
       "    }\n",
       "\n",
       "    .dataframe thead th {\n",
       "        text-align: right;\n",
       "    }\n",
       "</style>\n",
       "<table border=\"1\" class=\"dataframe\">\n",
       "  <thead>\n",
       "    <tr style=\"text-align: right;\">\n",
       "      <th></th>\n",
       "      <th>Date</th>\n",
       "      <th>Open</th>\n",
       "      <th>High</th>\n",
       "      <th>Low</th>\n",
       "      <th>Close</th>\n",
       "      <th>Volume</th>\n",
       "    </tr>\n",
       "  </thead>\n",
       "  <tbody>\n",
       "    <tr>\n",
       "      <th>0</th>\n",
       "      <td>01/06/2022</td>\n",
       "      <td>132.84</td>\n",
       "      <td>137.70</td>\n",
       "      <td>121.14</td>\n",
       "      <td>131.03</td>\n",
       "      <td>6,051,480</td>\n",
       "    </tr>\n",
       "    <tr>\n",
       "      <th>1</th>\n",
       "      <td>01/05/2022</td>\n",
       "      <td>148.39</td>\n",
       "      <td>148.85</td>\n",
       "      <td>129.15</td>\n",
       "      <td>129.37</td>\n",
       "      <td>3,396,400</td>\n",
       "    </tr>\n",
       "    <tr>\n",
       "      <th>2</th>\n",
       "      <td>01/04/2022</td>\n",
       "      <td>152.17</td>\n",
       "      <td>152.99</td>\n",
       "      <td>143.05</td>\n",
       "      <td>148.91</td>\n",
       "      <td>1,834,894</td>\n",
       "    </tr>\n",
       "    <tr>\n",
       "      <th>3</th>\n",
       "      <td>01/03/2022</td>\n",
       "      <td>149.23</td>\n",
       "      <td>159.38</td>\n",
       "      <td>149.21</td>\n",
       "      <td>152.84</td>\n",
       "      <td>1,417,001</td>\n",
       "    </tr>\n",
       "    <tr>\n",
       "      <th>4</th>\n",
       "      <td>12/31/2021</td>\n",
       "      <td>153.62</td>\n",
       "      <td>156.73</td>\n",
       "      <td>148.10</td>\n",
       "      <td>148.39</td>\n",
       "      <td>1,393,964</td>\n",
       "    </tr>\n",
       "  </tbody>\n",
       "</table>\n",
       "</div>"
      ],
      "text/plain": [
       "         Date    Open    High     Low   Close     Volume\n",
       "0  01/06/2022  132.84  137.70  121.14  131.03  6,051,480\n",
       "1  01/05/2022  148.39  148.85  129.15  129.37  3,396,400\n",
       "2  01/04/2022  152.17  152.99  143.05  148.91  1,834,894\n",
       "3  01/03/2022  149.23  159.38  149.21  152.84  1,417,001\n",
       "4  12/31/2021  153.62  156.73  148.10  148.39  1,393,964"
      ]
     },
     "execution_count": 24,
     "metadata": {},
     "output_type": "execute_result"
    }
   ],
   "source": [
    "df.head()"
   ]
  },
  {
   "cell_type": "code",
   "execution_count": 25,
   "id": "1818612e",
   "metadata": {},
   "outputs": [
    {
     "data": {
      "text/plain": [
       "Date      datetime64[ns]\n",
       "Open             float64\n",
       "High             float64\n",
       "Low              float64\n",
       "Close            float64\n",
       "Volume            object\n",
       "dtype: object"
      ]
     },
     "execution_count": 25,
     "metadata": {},
     "output_type": "execute_result"
    }
   ],
   "source": [
    "df['Date'] = pd.to_datetime(df['Date'])\n",
    "df.dtypes"
   ]
  },
  {
   "cell_type": "code",
   "execution_count": 26,
   "id": "838671dd",
   "metadata": {},
   "outputs": [
    {
     "data": {
      "text/html": [
       "<div>\n",
       "<style scoped>\n",
       "    .dataframe tbody tr th:only-of-type {\n",
       "        vertical-align: middle;\n",
       "    }\n",
       "\n",
       "    .dataframe tbody tr th {\n",
       "        vertical-align: top;\n",
       "    }\n",
       "\n",
       "    .dataframe thead th {\n",
       "        text-align: right;\n",
       "    }\n",
       "</style>\n",
       "<table border=\"1\" class=\"dataframe\">\n",
       "  <thead>\n",
       "    <tr style=\"text-align: right;\">\n",
       "      <th></th>\n",
       "      <th>Open</th>\n",
       "      <th>High</th>\n",
       "      <th>Low</th>\n",
       "      <th>Close</th>\n",
       "      <th>Volume</th>\n",
       "    </tr>\n",
       "    <tr>\n",
       "      <th>Date</th>\n",
       "      <th></th>\n",
       "      <th></th>\n",
       "      <th></th>\n",
       "      <th></th>\n",
       "      <th></th>\n",
       "    </tr>\n",
       "  </thead>\n",
       "  <tbody>\n",
       "    <tr>\n",
       "      <th>2022-01-06</th>\n",
       "      <td>132.84</td>\n",
       "      <td>137.70</td>\n",
       "      <td>121.14</td>\n",
       "      <td>131.03</td>\n",
       "      <td>6,051,480</td>\n",
       "    </tr>\n",
       "    <tr>\n",
       "      <th>2022-01-05</th>\n",
       "      <td>148.39</td>\n",
       "      <td>148.85</td>\n",
       "      <td>129.15</td>\n",
       "      <td>129.37</td>\n",
       "      <td>3,396,400</td>\n",
       "    </tr>\n",
       "    <tr>\n",
       "      <th>2022-01-04</th>\n",
       "      <td>152.17</td>\n",
       "      <td>152.99</td>\n",
       "      <td>143.05</td>\n",
       "      <td>148.91</td>\n",
       "      <td>1,834,894</td>\n",
       "    </tr>\n",
       "    <tr>\n",
       "      <th>2022-01-03</th>\n",
       "      <td>149.23</td>\n",
       "      <td>159.38</td>\n",
       "      <td>149.21</td>\n",
       "      <td>152.84</td>\n",
       "      <td>1,417,001</td>\n",
       "    </tr>\n",
       "    <tr>\n",
       "      <th>2021-12-31</th>\n",
       "      <td>153.62</td>\n",
       "      <td>156.73</td>\n",
       "      <td>148.10</td>\n",
       "      <td>148.39</td>\n",
       "      <td>1,393,964</td>\n",
       "    </tr>\n",
       "  </tbody>\n",
       "</table>\n",
       "</div>"
      ],
      "text/plain": [
       "              Open    High     Low   Close     Volume\n",
       "Date                                                 \n",
       "2022-01-06  132.84  137.70  121.14  131.03  6,051,480\n",
       "2022-01-05  148.39  148.85  129.15  129.37  3,396,400\n",
       "2022-01-04  152.17  152.99  143.05  148.91  1,834,894\n",
       "2022-01-03  149.23  159.38  149.21  152.84  1,417,001\n",
       "2021-12-31  153.62  156.73  148.10  148.39  1,393,964"
      ]
     },
     "execution_count": 26,
     "metadata": {},
     "output_type": "execute_result"
    }
   ],
   "source": [
    "df.set_index('Date', inplace=True)\n",
    "df.head()"
   ]
  },
  {
   "cell_type": "code",
   "execution_count": 30,
   "id": "b8a6f546",
   "metadata": {},
   "outputs": [],
   "source": [
    "env = gym.make('stocks-v0', df=df, frame_bound=(5,100), window_size=5)"
   ]
  },
  {
   "cell_type": "code",
   "execution_count": 33,
   "id": "76d57074",
   "metadata": {},
   "outputs": [
    {
     "data": {
      "text/plain": [
       "array([[ 1.3103e+02,  0.0000e+00],\n",
       "       [ 1.2937e+02, -1.6600e+00],\n",
       "       [ 1.4891e+02,  1.9540e+01],\n",
       "       [ 1.5284e+02,  3.9300e+00],\n",
       "       [ 1.4839e+02, -4.4500e+00],\n",
       "       [ 1.5533e+02,  6.9400e+00],\n",
       "       [ 1.5393e+02, -1.4000e+00],\n",
       "       [ 1.4646e+02, -7.4700e+00],\n",
       "       [ 1.4831e+02,  1.8500e+00],\n",
       "       [ 1.5214e+02,  3.8300e+00],\n",
       "       [ 1.5400e+02,  1.8600e+00],\n",
       "       [ 1.5812e+02,  4.1200e+00],\n",
       "       [ 1.5714e+02, -9.8000e-01],\n",
       "       [ 1.5564e+02, -1.5000e+00],\n",
       "       [ 1.4459e+02, -1.1050e+01],\n",
       "       [ 1.4859e+02,  4.0000e+00],\n",
       "       [ 1.4769e+02, -9.0000e-01],\n",
       "       [ 1.3688e+02, -1.0810e+01],\n",
       "       [ 1.5901e+02,  2.2130e+01],\n",
       "       [ 1.5576e+02, -3.2500e+00],\n",
       "       [ 1.7365e+02,  1.7890e+01],\n",
       "       [ 1.7781e+02,  4.1600e+00],\n",
       "       [ 1.6712e+02, -1.0690e+01],\n",
       "       [ 1.7239e+02,  5.2700e+00],\n",
       "       [ 1.8156e+02,  9.1700e+00],\n",
       "       [ 1.7984e+02, -1.7200e+00],\n",
       "       [ 1.9621e+02,  1.6370e+01],\n",
       "       [ 2.0201e+02,  5.8000e+00],\n",
       "       [ 1.9972e+02, -2.2900e+00],\n",
       "       [ 2.1178e+02,  1.2060e+01],\n",
       "       [ 2.1390e+02,  2.1200e+00],\n",
       "       [ 2.4755e+02,  3.3650e+01],\n",
       "       [ 2.2880e+02, -1.8750e+01],\n",
       "       [ 2.1012e+02, -1.8680e+01],\n",
       "       [ 2.1000e+02, -1.2000e-01],\n",
       "       [ 2.0718e+02, -2.8200e+00],\n",
       "       [ 2.0914e+02,  1.9600e+00],\n",
       "       [ 2.0210e+02, -7.0400e+00],\n",
       "       [ 2.0432e+02,  2.2200e+00],\n",
       "       [ 1.9919e+02, -5.1300e+00],\n",
       "       [ 2.0660e+02,  7.4100e+00],\n",
       "       [ 2.1864e+02,  1.2040e+01],\n",
       "       [ 2.1325e+02, -5.3900e+00],\n",
       "       [ 2.1784e+02,  4.5900e+00],\n",
       "       [ 2.1833e+02,  4.9000e-01],\n",
       "       [ 2.0699e+02, -1.1340e+01],\n",
       "       [ 2.0009e+02, -6.9000e+00],\n",
       "       [ 1.8351e+02, -1.6580e+01],\n",
       "       [ 1.8285e+02, -6.6000e-01],\n",
       "       [ 1.7351e+02, -9.3400e+00],\n",
       "       [ 1.7784e+02,  4.3300e+00],\n",
       "       [ 1.7397e+02, -3.8700e+00],\n",
       "       [ 1.6980e+02, -4.1700e+00],\n",
       "       [ 1.8171e+02,  1.1910e+01],\n",
       "       [ 1.8452e+02,  2.8100e+00],\n",
       "       [ 1.8679e+02,  2.2700e+00],\n",
       "       [ 1.8602e+02, -7.7000e-01],\n",
       "       [ 1.8328e+02, -2.7400e+00],\n",
       "       [ 1.8383e+02,  5.5000e-01],\n",
       "       [ 1.8406e+02,  2.3000e-01],\n",
       "       [ 1.7582e+02, -8.2400e+00],\n",
       "       [ 1.7810e+02,  2.2800e+00],\n",
       "       [ 1.7268e+02, -5.4200e+00],\n",
       "       [ 1.7212e+02, -5.6000e-01],\n",
       "       [ 1.7107e+02, -1.0500e+00],\n",
       "       [ 1.7218e+02,  1.1100e+00],\n",
       "       [ 1.7136e+02, -8.2000e-01],\n",
       "       [ 1.7691e+02,  5.5500e+00],\n",
       "       [ 1.7547e+02, -1.4400e+00],\n",
       "       [ 1.7592e+02,  4.5000e-01],\n",
       "       [ 1.7860e+02,  2.6800e+00],\n",
       "       [ 1.8948e+02,  1.0880e+01],\n",
       "       [ 1.8516e+02, -4.3200e+00],\n",
       "       [ 1.9124e+02,  6.0800e+00],\n",
       "       [ 1.9014e+02, -1.1000e+00],\n",
       "       [ 1.8995e+02, -1.9000e-01],\n",
       "       [ 1.9220e+02,  2.2500e+00],\n",
       "       [ 2.0497e+02,  1.2770e+01],\n",
       "       [ 2.0637e+02,  1.4000e+00],\n",
       "       [ 2.0452e+02, -1.8500e+00],\n",
       "       [ 1.9924e+02, -5.2800e+00],\n",
       "       [ 2.0340e+02,  4.1600e+00],\n",
       "       [ 1.9041e+02, -1.2990e+01],\n",
       "       [ 1.9918e+02,  8.7700e+00],\n",
       "       [ 1.9880e+02, -3.8000e-01],\n",
       "       [ 1.9900e+02,  2.0000e-01],\n",
       "       [ 2.0275e+02,  3.7500e+00],\n",
       "       [ 2.1352e+02,  1.0770e+01],\n",
       "       [ 2.1297e+02, -5.5000e-01],\n",
       "       [ 2.1824e+02,  5.2700e+00],\n",
       "       [ 2.0920e+02, -9.0400e+00],\n",
       "       [ 2.0495e+02, -4.2500e+00],\n",
       "       [ 2.0522e+02,  2.7000e-01],\n",
       "       [ 1.9965e+02, -5.5700e+00],\n",
       "       [ 2.1029e+02,  1.0640e+01],\n",
       "       [ 1.6489e+02, -4.5400e+01],\n",
       "       [ 1.5930e+02, -5.5900e+00],\n",
       "       [ 1.5290e+02, -6.4000e+00],\n",
       "       [ 1.5705e+02,  4.1500e+00],\n",
       "       [ 1.6355e+02,  6.5000e+00]])"
      ]
     },
     "execution_count": 33,
     "metadata": {},
     "output_type": "execute_result"
    }
   ],
   "source": [
    "env.signal_features"
   ]
  },
  {
   "cell_type": "code",
   "execution_count": 35,
   "id": "7b57c1f5",
   "metadata": {},
   "outputs": [
    {
     "name": "stdout",
     "output_type": "stream",
     "text": [
      "info {'total_reward': -52.36000000000007, 'total_profit': 0.5456248624412589, 'position': 0}\n"
     ]
    },
    {
     "data": {
      "image/png": "[encoded data removed]",
      "text/plain": [
       "<Figure size 1080x432 with 1 Axes>"
      ]
     },
     "metadata": {
      "needs_background": "light"
     },
     "output_type": "display_data"
    }
   ],
   "source": [
    "state = env.reset()\n",
    "while True:\n",
    "    action = env.action_space.sample()\n",
    "    n_state, reward, done, info = env.step(action)\n",
    "    if done:\n",
    "        print(\"info\", info)\n",
    "        break\n",
    "    \n",
    "plt.figure(figsize=(15,6))\n",
    "plt.cla()\n",
    "env.render_all()\n",
    "plt.show()"
   ]
  },
  {
   "cell_type": "code",
   "execution_count": null,
   "id": "cc547714",
   "metadata": {},
   "outputs": [],
   "source": []
  }
 ],
 "metadata": {
  "interpreter": {
   "hash": "ef98e78facf4aeab5d6f20e3dd33c8d81ed985ae9df521d53ebe9a982c6a8274"
  },
  "kernelspec": {
   "display_name": "Python 3.9.9 64-bit ('ai': conda)",
   "language": "python",
   "name": "python3"
  },
  "language_info": {
   "codemirror_mode": {
    "name": "ipython",
    "version": 3
   },
   "file_extension": ".py",
   "mimetype": "text/x-python",
   "name": "python",
   "nbconvert_exporter": "python",
   "pygments_lexer": "ipython3",
   "version": "3.9.9"
  }
 },
 "nbformat": 4,
 "nbformat_minor": 5
}
