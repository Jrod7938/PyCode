{
 "cells": [
  {
   "cell_type": "code",
   "execution_count": 3,
   "id": "bacd2228-873f-4ccf-bae0-6dd63dcf4829",
   "metadata": {},
   "outputs": [
    {
     "name": "stdout",
     "output_type": "stream",
     "text": [
      "Episode: 1 Score:32.0\n",
      "Episode: 2 Score:11.0\n",
      "Episode: 3 Score:10.0\n",
      "Episode: 4 Score:27.0\n",
      "Episode: 5 Score:16.0\n",
      "Episode: 6 Score:15.0\n",
      "Episode: 7 Score:11.0\n",
      "Episode: 8 Score:12.0\n",
      "Episode: 9 Score:20.0\n",
      "Episode: 10 Score:10.0\n",
      "Model: \"sequential\"\n",
      "_________________________________________________________________\n",
      "Layer (type)                 Output Shape              Param #   \n",
      "=================================================================\n",
      "flatten (Flatten)            (None, 4)                 0         \n",
      "_________________________________________________________________\n",
      "dense (Dense)                (None, 24)                120       \n",
      "_________________________________________________________________\n",
      "dense_1 (Dense)              (None, 24)                600       \n",
      "_________________________________________________________________\n",
      "dense_2 (Dense)              (None, 2)                 50        \n",
      "=================================================================\n",
      "Total params: 770\n",
      "Trainable params: 770\n",
      "Non-trainable params: 0\n",
      "_________________________________________________________________\n"
     ]
    }
   ],
   "source": [
    "import gym\n",
    "import random\n",
    "import numpy as np\n",
    "from tensorflow.keras import models\n",
    "from tensorflow.keras.models import Sequential\n",
    "from tensorflow.keras.layers import Dense, Flatten\n",
    "from tensorflow.keras.optimizers import Adam\n",
    "from tensorflow.python.keras.layers.core import Activation\n",
    "from rl.agents import DQNAgent\n",
    "from rl.policy import BoltzmannQPolicy\n",
    "from rl.memory import SequentialMemory\n",
    "from tensorflow.python.util import memory\n",
    "\n",
    "env = gym.make(\"CartPole-v0\")\n",
    "states = env.observation_space.shape[0]\n",
    "actions = env.action_space.n\n",
    "episodes = 10\n",
    "\n",
    "for episode in range(1, episodes+1):\n",
    "    state = env.reset()\n",
    "    done = False\n",
    "    score = 0\n",
    "\n",
    "    while not done:\n",
    "        env.render()\n",
    "        action = env.action_space.sample()\n",
    "        n_state, reward, done, info = env.step(action)\n",
    "        score += reward\n",
    "    print(f\"Episode: {episode} Score:{score}\")\n",
    "\n",
    "def build_model(states,actions):\n",
    "    model = Sequential()\n",
    "    model.add(Flatten(input_shape=(1, states)))\n",
    "    model.add(Dense(24, activation='relu'))\n",
    "    model.add(Dense(24, activation='relu'))\n",
    "    model.add(Dense(actions, activation='linear'))\n",
    "    return model \n",
    "\n",
    "model = build_model(states, actions)\n",
    "model.summary()\n",
    "\n",
    "def build_agent(model, actions):\n",
    "    policy = BoltzmannQPolicy()\n",
    "    memory = SequentialMemory(limit=50000, window_length=1)\n",
    "    dqn = DQNAgent(model=model, memory=memory, policy=policy, nb_actions=actions, nb_steps_warmup=10, target_model_update=1e-2)\n",
    "    return dqn"
   ]
  },
  {
   "cell_type": "code",
   "execution_count": 4,
   "id": "71300a38-80f4-4cb4-98ea-35d967abb11f",
   "metadata": {},
   "outputs": [
    {
     "name": "stderr",
     "output_type": "stream",
     "text": [
      "/Users/jc/miniforge3/envs/ai/lib/python3.9/site-packages/keras/optimizer_v2/optimizer_v2.py:355: UserWarning: The `lr` argument is deprecated, use `learning_rate` instead.\n",
      "  warnings.warn(\n",
      "2022-01-07 00:06:53.210117: W tensorflow/core/platform/profile_utils/cpu_utils.cc:128] Failed to get CPU frequency: 0 Hz\n"
     ]
    },
    {
     "name": "stdout",
     "output_type": "stream",
     "text": [
      "Training for 50000 steps ...\n",
      "Interval 1 (0 steps performed)\n",
      "   38/10000 [..............................] - ETA: 49s - reward: 1.0000 "
     ]
    },
    {
     "name": "stderr",
     "output_type": "stream",
     "text": [
      "/Users/jc/miniforge3/envs/ai/lib/python3.9/site-packages/keras/engine/training.py:2470: UserWarning: `Model.state_updates` will be removed in a future version. This property should not be used in TensorFlow 2.0, as `updates` are applied automatically.\n",
      "  warnings.warn('`Model.state_updates` will be removed in a future version. '\n",
      "/Users/jc/miniforge3/envs/ai/lib/python3.9/site-packages/rl/memory.py:37: UserWarning: Not enough entries to sample without replacement. Consider increasing your warm-up phase to avoid oversampling!\n",
      "  warnings.warn('Not enough entries to sample without replacement. Consider increasing your warm-up phase to avoid oversampling!')\n"
     ]
    },
    {
     "name": "stdout",
     "output_type": "stream",
     "text": [
      "10000/10000 [==============================] - 19s 2ms/step - reward: 1.0000\n",
      "101 episodes - episode_reward: 97.208 [8.000, 200.000] - loss: 1.990 - mae: 18.720 - mean_q: 37.994\n",
      "\n",
      "Interval 2 (10000 steps performed)\n",
      "10000/10000 [==============================] - 19s 2ms/step - reward: 1.0000\n",
      "55 episodes - episode_reward: 183.964 [159.000, 200.000] - loss: 3.156 - mae: 36.166 - mean_q: 73.145\n",
      "\n",
      "Interval 3 (20000 steps performed)\n",
      "10000/10000 [==============================] - 20s 2ms/step - reward: 1.0000\n",
      "51 episodes - episode_reward: 193.804 [165.000, 200.000] - loss: 3.040 - mae: 37.446 - mean_q: 75.425\n",
      "\n",
      "Interval 4 (30000 steps performed)\n",
      "10000/10000 [==============================] - 20s 2ms/step - reward: 1.0000\n",
      "51 episodes - episode_reward: 196.490 [165.000, 200.000] - loss: 4.489 - mae: 36.546 - mean_q: 73.391\n",
      "\n",
      "Interval 5 (40000 steps performed)\n",
      "10000/10000 [==============================] - 21s 2ms/step - reward: 1.0000\n",
      "done, took 98.356 seconds\n"
     ]
    },
    {
     "data": {
      "text/plain": [
       "<keras.callbacks.History at 0x109c1b850>"
      ]
     },
     "execution_count": 4,
     "metadata": {},
     "output_type": "execute_result"
    }
   ],
   "source": [
    "dqn = build_agent(model, actions)\n",
    "dqn.compile(Adam(lr=1e-3), metrics=['mae'])\n",
    "dqn.fit(env, nb_steps=50000, visualize=False, verbose=1)"
   ]
  },
  {
   "cell_type": "code",
   "execution_count": 5,
   "id": "c4f5df40-5e32-4f7d-80d2-eedc79314167",
   "metadata": {},
   "outputs": [
    {
     "name": "stdout",
     "output_type": "stream",
     "text": [
      "Testing for 100 episodes ...\n",
      "Episode 1: reward: 193.000, steps: 193\n",
      "Episode 2: reward: 185.000, steps: 185\n",
      "Episode 3: reward: 179.000, steps: 179\n",
      "Episode 4: reward: 200.000, steps: 200\n",
      "Episode 5: reward: 178.000, steps: 178\n",
      "Episode 6: reward: 200.000, steps: 200\n",
      "Episode 7: reward: 181.000, steps: 181\n",
      "Episode 8: reward: 175.000, steps: 175\n",
      "Episode 9: reward: 200.000, steps: 200\n",
      "Episode 10: reward: 180.000, steps: 180\n",
      "Episode 11: reward: 175.000, steps: 175\n",
      "Episode 12: reward: 177.000, steps: 177\n",
      "Episode 13: reward: 191.000, steps: 191\n",
      "Episode 14: reward: 193.000, steps: 193\n",
      "Episode 15: reward: 179.000, steps: 179\n",
      "Episode 16: reward: 182.000, steps: 182\n",
      "Episode 17: reward: 186.000, steps: 186\n",
      "Episode 18: reward: 178.000, steps: 178\n",
      "Episode 19: reward: 179.000, steps: 179\n",
      "Episode 20: reward: 181.000, steps: 181\n",
      "Episode 21: reward: 200.000, steps: 200\n",
      "Episode 22: reward: 173.000, steps: 173\n",
      "Episode 23: reward: 200.000, steps: 200\n",
      "Episode 24: reward: 178.000, steps: 178\n",
      "Episode 25: reward: 200.000, steps: 200\n",
      "Episode 26: reward: 195.000, steps: 195\n",
      "Episode 27: reward: 200.000, steps: 200\n",
      "Episode 28: reward: 197.000, steps: 197\n",
      "Episode 29: reward: 185.000, steps: 185\n",
      "Episode 30: reward: 191.000, steps: 191\n",
      "Episode 31: reward: 184.000, steps: 184\n",
      "Episode 32: reward: 184.000, steps: 184\n",
      "Episode 33: reward: 198.000, steps: 198\n",
      "Episode 34: reward: 184.000, steps: 184\n",
      "Episode 35: reward: 178.000, steps: 178\n",
      "Episode 36: reward: 199.000, steps: 199\n",
      "Episode 37: reward: 187.000, steps: 187\n",
      "Episode 38: reward: 170.000, steps: 170\n",
      "Episode 39: reward: 165.000, steps: 165\n",
      "Episode 40: reward: 184.000, steps: 184\n",
      "Episode 41: reward: 172.000, steps: 172\n",
      "Episode 42: reward: 177.000, steps: 177\n",
      "Episode 43: reward: 173.000, steps: 173\n",
      "Episode 44: reward: 200.000, steps: 200\n",
      "Episode 45: reward: 200.000, steps: 200\n",
      "Episode 46: reward: 179.000, steps: 179\n",
      "Episode 47: reward: 200.000, steps: 200\n",
      "Episode 48: reward: 180.000, steps: 180\n",
      "Episode 49: reward: 184.000, steps: 184\n",
      "Episode 50: reward: 174.000, steps: 174\n",
      "Episode 51: reward: 183.000, steps: 183\n",
      "Episode 52: reward: 200.000, steps: 200\n",
      "Episode 53: reward: 167.000, steps: 167\n",
      "Episode 54: reward: 182.000, steps: 182\n",
      "Episode 55: reward: 200.000, steps: 200\n",
      "Episode 56: reward: 172.000, steps: 172\n",
      "Episode 57: reward: 186.000, steps: 186\n",
      "Episode 58: reward: 200.000, steps: 200\n",
      "Episode 59: reward: 177.000, steps: 177\n",
      "Episode 60: reward: 200.000, steps: 200\n",
      "Episode 61: reward: 189.000, steps: 189\n",
      "Episode 62: reward: 200.000, steps: 200\n",
      "Episode 63: reward: 181.000, steps: 181\n",
      "Episode 64: reward: 198.000, steps: 198\n",
      "Episode 65: reward: 200.000, steps: 200\n",
      "Episode 66: reward: 180.000, steps: 180\n",
      "Episode 67: reward: 200.000, steps: 200\n",
      "Episode 68: reward: 169.000, steps: 169\n",
      "Episode 69: reward: 192.000, steps: 192\n",
      "Episode 70: reward: 160.000, steps: 160\n",
      "Episode 71: reward: 200.000, steps: 200\n",
      "Episode 72: reward: 200.000, steps: 200\n",
      "Episode 73: reward: 179.000, steps: 179\n",
      "Episode 74: reward: 200.000, steps: 200\n",
      "Episode 75: reward: 175.000, steps: 175\n",
      "Episode 76: reward: 173.000, steps: 173\n",
      "Episode 77: reward: 197.000, steps: 197\n",
      "Episode 78: reward: 183.000, steps: 183\n",
      "Episode 79: reward: 196.000, steps: 196\n",
      "Episode 80: reward: 176.000, steps: 176\n",
      "Episode 81: reward: 187.000, steps: 187\n",
      "Episode 82: reward: 180.000, steps: 180\n",
      "Episode 83: reward: 198.000, steps: 198\n",
      "Episode 84: reward: 200.000, steps: 200\n",
      "Episode 85: reward: 178.000, steps: 178\n",
      "Episode 86: reward: 172.000, steps: 172\n",
      "Episode 87: reward: 173.000, steps: 173\n",
      "Episode 88: reward: 172.000, steps: 172\n",
      "Episode 89: reward: 192.000, steps: 192\n",
      "Episode 90: reward: 175.000, steps: 175\n",
      "Episode 91: reward: 193.000, steps: 193\n",
      "Episode 92: reward: 200.000, steps: 200\n",
      "Episode 93: reward: 181.000, steps: 181\n",
      "Episode 94: reward: 194.000, steps: 194\n",
      "Episode 95: reward: 171.000, steps: 171\n",
      "Episode 96: reward: 200.000, steps: 200\n",
      "Episode 97: reward: 200.000, steps: 200\n",
      "Episode 98: reward: 165.000, steps: 165\n",
      "Episode 99: reward: 169.000, steps: 169\n",
      "Episode 100: reward: 176.000, steps: 176\n",
      "185.74\n"
     ]
    }
   ],
   "source": [
    "scores = dqn.test(env, nb_episodes=100, visualize=True)\n",
    "print(np.mean(scores.history['episode_reward']))"
   ]
  },
  {
   "cell_type": "code",
   "execution_count": null,
   "id": "eeccee0a-6b9a-43aa-8ede-56ff91311eea",
   "metadata": {},
   "outputs": [],
   "source": [
    "dqn.save_weights('dqn_weights.h5f', overwrite=True)"
   ]
  },
  {
   "cell_type": "code",
   "execution_count": 6,
   "id": "d05d07d5-44e9-4659-8968-c61f49d8999c",
   "metadata": {},
   "outputs": [],
   "source": [
    "del model\n",
    "del dqn\n",
    "del env"
   ]
  },
  {
   "cell_type": "code",
   "execution_count": null,
   "id": "4344c23c-6918-4f39-a580-dbfcccf05ef9",
   "metadata": {},
   "outputs": [],
   "source": [
    "env = gym.make('CartPole-v0')\n",
    "actions = env.action_space.n\n",
    "states = env.observation_space.shape[0]\n",
    "model = build_model(states, actions)\n",
    "dqn = build_agent(model, actions)\n",
    "dqn.compile(Adam(lr=1e-3), metrics=['mae'])"
   ]
  },
  {
   "cell_type": "code",
   "execution_count": null,
   "id": "48e4c0f7-22f4-471e-9669-4a8f8cd126e3",
   "metadata": {},
   "outputs": [],
   "source": [
    "dqn.load_weights('dqn_weights.h5f')"
   ]
  },
  {
   "cell_type": "code",
   "execution_count": null,
   "id": "0b264545-29e9-4435-b612-999e96cf3eac",
   "metadata": {},
   "outputs": [
    {
     "name": "stdout",
     "output_type": "stream",
     "text": [
      "Testing for 5 episodes ...\n",
      "Episode 1: reward: -75.000, steps: 76\n",
      "Episode 2: reward: -118.000, steps: 119\n",
      "Episode 3: reward: -81.000, steps: 82\n",
      "Episode 4: reward: -107.000, steps: 108\n",
      "Episode 5: reward: -85.000, steps: 86\n"
     ]
    },
    {
     "data": {
      "text/plain": [
       "<keras.callbacks.History at 0x2836e6af0>"
      ]
     },
     "execution_count": 14,
     "metadata": {},
     "output_type": "execute_result"
    }
   ],
   "source": [
    "dqn.test(env, nb_episodes=5, visualize=True)"
   ]
  },
  {
   "cell_type": "code",
   "execution_count": null,
   "id": "272a676e-12da-470f-b756-8f51f215564f",
   "metadata": {},
   "outputs": [],
   "source": []
  }
 ],
 "metadata": {
  "kernelspec": {
   "display_name": "Python 3 (ipykernel)",
   "language": "python",
   "name": "python3"
  },
  "language_info": {
   "codemirror_mode": {
    "name": "ipython",
    "version": 3
   },
   "file_extension": ".py",
   "mimetype": "text/x-python",
   "name": "python",
   "nbconvert_exporter": "python",
   "pygments_lexer": "ipython3",
   "version": "3.9.9"
  }
 },
 "nbformat": 4,
 "nbformat_minor": 5
}
